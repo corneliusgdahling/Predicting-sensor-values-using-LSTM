{
 "cells": [
  {
   "cell_type": "code",
   "execution_count": null,
   "metadata": {},
   "outputs": [],
   "source": [
    "# Feature Importance with Extra Trees Classifier\n",
    "import pandas as pd\n",
    "from sklearn.ensemble import ExtraTreesClassifier, RandomForestRegressor\n",
    "import pickle\n",
    "import numpy as np\n",
    "from matplotlib import pyplot as plt\n",
    "import time"
   ]
  },
  {
   "cell_type": "code",
   "execution_count": null,
   "metadata": {},
   "outputs": [],
   "source": [
    "df = pd.read_csv('interpolated_no_na_no_noise.csv', index_col=0, sep=\";\") # Created in sensor cleaning"
   ]
  },
  {
   "cell_type": "code",
   "execution_count": null,
   "metadata": {},
   "outputs": [],
   "source": [
    "def find_importances(current_col, df):\n",
    "    X = np.delete(df.values, current_col, 1)\n",
    "    y = df.values[:, current_col]\n",
    "    \n",
    "    model = RandomForestRegressor(n_estimators=100, random_state=1)\n",
    "    model.fit(X, y)\n",
    "    importances = model.feature_importances_\n",
    "\n",
    "    importantes = np.copy(importances)\n",
    "\n",
    "    imp_values = np.insert(importantes, current_col, 1.0)\n",
    "\n",
    "\n",
    "    indices = np.argsort(imp_values)[::-1]\n",
    "\n",
    "\n",
    "    imp_dict = {}\n",
    "\n",
    "    for i in range(len(imp_values)):\n",
    "        imp_dict[indices[i]] = imp_values[indices[i]]\n",
    "\n",
    "    current_col_name = df.columns.values[current_col]\n",
    "    print(current_col_name)\n",
    "\n",
    "\n",
    "    with open('importance_new/' + str(current_col_name) + '_dict.pkl', 'wb') as f:\n",
    "        pickle.dump(imp_dict, f, pickle.HIGHEST_PROTOCOL)\n",
    "\n",
    "    with open('importance_new/' + str(current_col_name) + '_rank.pkl', 'wb') as f:\n",
    "        pickle.dump(indices, f, pickle.HIGHEST_PROTOCOL)"
   ]
  },
  {
   "cell_type": "code",
   "execution_count": null,
   "metadata": {},
   "outputs": [],
   "source": [
    "start_time = time.time()\n",
    "\n",
    "number_of_columns = len(df.columns.values) # The number of columns (number of sensors) in the DataFrame (df)\n",
    "\n",
    "for current_col_num in range(number_of_columns):\n",
    "    find_importances(current_col_num, df)"
   ]
  },
  {
   "cell_type": "code",
   "execution_count": null,
   "metadata": {},
   "outputs": [],
   "source": [
    "current_col_name = column_A # Choose any column name to find importances\n",
    "with open('importance/' + str(current_col_name) + '_dict.pkl', 'rb') as f:\n",
    "    importances_for_column_A = pickle.load(f)"
   ]
  },
  {
   "cell_type": "code",
   "execution_count": null,
   "metadata": {},
   "outputs": [],
   "source": [
    "importances_for_column_A"
   ]
  }
 ],
 "metadata": {
  "kernelspec": {
   "display_name": "Python 3",
   "language": "python",
   "name": "python3"
  },
  "language_info": {
   "codemirror_mode": {
    "name": "ipython",
    "version": 3
   },
   "file_extension": ".py",
   "mimetype": "text/x-python",
   "name": "python",
   "nbconvert_exporter": "python",
   "pygments_lexer": "ipython3",
   "version": "3.7.2"
  }
 },
 "nbformat": 4,
 "nbformat_minor": 2
}
