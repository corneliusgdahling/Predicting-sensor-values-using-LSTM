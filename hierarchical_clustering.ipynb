{
 "cells": [
  {
   "cell_type": "code",
   "execution_count": null,
   "metadata": {},
   "outputs": [],
   "source": [
    "import pandas as pd\n",
    "import pickle\n",
    "import numpy as np\n",
    "from scipy.cluster.hierarchy import fcluster, linkage, dendrogram, cophenet\n",
    "from scipy.spatial.distance import pdist\n",
    "from matplotlib import pyplot as plt"
   ]
  },
  {
   "cell_type": "code",
   "execution_count": null,
   "metadata": {},
   "outputs": [],
   "source": [
    "file = 'interpolated_no_na_no_noise.csv'\n",
    "df = pd.read_csv(file, index_col=0, nrows=30, sep=\";\")"
   ]
  },
  {
   "cell_type": "code",
   "execution_count": null,
   "metadata": {},
   "outputs": [],
   "source": [
    "with open('euclidean_similarity_matrix.pkl', 'rb') as f:\n",
    "    sim_matrix = pickle.load(f)"
   ]
  },
  {
   "cell_type": "code",
   "execution_count": null,
   "metadata": {},
   "outputs": [],
   "source": [
    "sim_vec = pdist(sim_matrix)\n",
    "sim_vec.T.shape"
   ]
  },
  {
   "cell_type": "code",
   "execution_count": null,
   "metadata": {},
   "outputs": [],
   "source": [
    "Z = linkage(sim_vec, 'centroid', 'precomputed')"
   ]
  },
  {
   "cell_type": "code",
   "execution_count": null,
   "metadata": {},
   "outputs": [],
   "source": [
    "c, coph_dists = cophenet(Z, sim_vec) # Calculates cophenetic distance, which determines how well the clustering works\n",
    "c                                    # used for calculating clustering methods (such as 'centroid')"
   ]
  },
  {
   "cell_type": "code",
   "execution_count": null,
   "metadata": {},
   "outputs": [],
   "source": [
    "# calculate full dendrogram\n",
    "figure =plt.figure(figsize=(25, 10))\n",
    "plt.title('Hierarchical Clustering Dendrogram')\n",
    "plt.xlabel('sample index')\n",
    "plt.ylabel('distance')\n",
    "dendrogram(\n",
    "    Z,\n",
    "    leaf_rotation=90.,  # rotates the x axis labels\n",
    "    leaf_font_size=8.,  # font size for the x axis labels\n",
    ")\n",
    "plt.show()\n",
    "figure.savefig('dendrogram.png')"
   ]
  },
  {
   "cell_type": "code",
   "execution_count": null,
   "metadata": {},
   "outputs": [],
   "source": [
    "max_d = 5*10**5 # Sets max distance for clustering\n",
    "''' \n",
    "fancy_dendrogram(\n",
    "    Z,\n",
    "    truncate_mode='lastp',\n",
    "    p=30,\n",
    "    leaf_rotation=90.,\n",
    "    leaf_font_size=12.,\n",
    "    show_contracted=True,\n",
    "    annotate_above=10,  # useful in small plots so annotations don't overlap\n",
    "    max_d=max_d\n",
    ")\n",
    "plt.show()\n",
    "'''"
   ]
  },
  {
   "cell_type": "code",
   "execution_count": null,
   "metadata": {
    "scrolled": true
   },
   "outputs": [],
   "source": [
    "T = fcluster(Z, max_d, criterion='distance')"
   ]
  },
  {
   "cell_type": "code",
   "execution_count": null,
   "metadata": {},
   "outputs": [],
   "source": [
    "# Generates a list of lists for each cluster. The nested list contains column names that are in the given cluster\n",
    "def generate_cluster_list(multi_item_clusters, all_clusters, df, write_to_file=False):\n",
    "    clusters_list = []\n",
    "    for cluster in multi_item_clusters:\n",
    "        indices = np.where(all_clusters == cluster)\n",
    "        cols = df.columns.values[indices]\n",
    "        clusters_list.append(cols.tolist())\n",
    "\n",
    "    not_clusters = list(set(x) - set(y))\n",
    "\n",
    "    for not_cluster in not_clusters:\n",
    "        index = np.where(T == not_cluster)\n",
    "        col = df.columns.values[index]\n",
    "        clusters_list.append(col.tolist())\n",
    "    if write_to_file:\n",
    "        with open ('clusters_list.pkl', 'wb') as f:\n",
    "            pickle.dump(clusters_list, f, pickle.HIGHEST_PROTOCOL)\n",
    "    return clusters_list"
   ]
  },
  {
   "cell_type": "code",
   "execution_count": null,
   "metadata": {
    "scrolled": true
   },
   "outputs": [],
   "source": [
    "# Finds the multi items clusters\n",
    "\n",
    "x = []\n",
    "y = []\n",
    "for i in range(len(T)):\n",
    "    if T[i] not in x:\n",
    "        x.append(T[i])\n",
    "    elif T[i] not in y:\n",
    "        y.append(T[i])"
   ]
  },
  {
   "cell_type": "code",
   "execution_count": null,
   "metadata": {},
   "outputs": [],
   "source": [
    "cluster_list = generate_cluster_list(y, T, df, True)"
   ]
  }
 ],
 "metadata": {
  "kernelspec": {
   "display_name": "Python 3",
   "language": "python",
   "name": "python3"
  },
  "language_info": {
   "codemirror_mode": {
    "name": "ipython",
    "version": 3
   },
   "file_extension": ".py",
   "mimetype": "text/x-python",
   "name": "python",
   "nbconvert_exporter": "python",
   "pygments_lexer": "ipython3",
   "version": "3.7.2"
  }
 },
 "nbformat": 4,
 "nbformat_minor": 2
}
