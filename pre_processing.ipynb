{
 "cells": [
  {
   "cell_type": "code",
   "execution_count": 293,
   "metadata": {},
   "outputs": [],
   "source": [
    "import os\n",
    "import pandas as pd\n",
    "import glob"
   ]
  },
  {
   "cell_type": "code",
   "execution_count": 294,
   "metadata": {},
   "outputs": [],
   "source": [
    "column_names = # FILL IN HERE\n",
    "\n",
    "# Sensordata from different csv files (different years mostly) are combined into a single csv file \n",
    "\n",
    "def merge_files_in_folder(folder):\n",
    "    files = glob.glob('sensordata/' + folder + '/*.csv')\n",
    "    df = pd.concat([pd.read_csv(csv_file, names=column_names, sep=\";\") for csv_file in files])\n",
    "    df.drop(columns=['name', 'unknown'], axis=1, inplace=True)\n",
    "    df.rename(columns={'value':folder}, inplace=True)\n",
    "    df.set_index('timestamp', inplace=True)\n",
    "    df.sort_values('timestamp', ascending=True, inplace=True)\n",
    "    df.to_csv('sensordata/' + folder + '/combined.csv')"
   ]
  },
  {
   "cell_type": "code",
   "execution_count": 295,
   "metadata": {},
   "outputs": [],
   "source": [
    "# All sensors merge their data into a combined file per sensor\n",
    "\n",
    "def merge_files_in_all_folders():\n",
    "    dir_names = os.listdir('sensordata')\n",
    "    print(len(dir_names))\n",
    "    print(dir_names)\n",
    "    for i, dir_ in enumerate(dir_names):\n",
    "        if not glob.glob('sensordata/' + dir_ + '/combined.csv'):\n",
    "            merge_files_in_folder(dir_)\n",
    "            print(i+1, dir_)\n",
    "    print(\"Alle files merged!\")"
   ]
  }
 ],
 "metadata": {
  "kernelspec": {
   "display_name": "Python 3",
   "language": "python",
   "name": "python3"
  },
  "language_info": {
   "codemirror_mode": {
    "name": "ipython",
    "version": 3
   },
   "file_extension": ".py",
   "mimetype": "text/x-python",
   "name": "python",
   "nbconvert_exporter": "python",
   "pygments_lexer": "ipython3",
   "version": "3.7.2"
  }
 },
 "nbformat": 4,
 "nbformat_minor": 2
}
