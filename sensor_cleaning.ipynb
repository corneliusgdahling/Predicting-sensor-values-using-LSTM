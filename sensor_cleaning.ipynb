{
 "cells": [
  {
   "cell_type": "code",
   "execution_count": null,
   "metadata": {},
   "outputs": [],
   "source": [
    "import pandas as pd\n",
    "import glob"
   ]
  },
  {
   "cell_type": "code",
   "execution_count": null,
   "metadata": {},
   "outputs": [],
   "source": [
    "files = glob.glob('sensordata/*/combined.csv') # Get list of files. This is created in pre_processing.ipynb"
   ]
  },
  {
   "cell_type": "code",
   "execution_count": null,
   "metadata": {},
   "outputs": [],
   "source": [
    "lowest_timestamp_interval = #FILL IN HERE\n",
    "\n",
    "# Merges all the X (where X is the number of sensors) number of combined csv files into a single one\n",
    "# where each combined file is a column in the new csv file. Meaning you get a new csv file with\n",
    "# 1 (timestamp) + X - number of columns.\n",
    "# Windows are created which sensor recordings are added. Say that your lowest_timestamp_interval is 30 minutes.\n",
    "# You would then have a window for for example 16:00 and 16:30. Now any sensor recording, recorded between\n",
    "# 16:00 and 16:30 would be placed in the 16:00 window, while anything between 16:30 and 17:00 would be placed in\n",
    "# the 16:30 window, and so on.\n",
    "\n",
    "\n",
    "def merge_combined_files(start_date, end_date):\n",
    "    # A date range from before the first  is used to be able to merge the data in given windows.\n",
    "    # For this range, the lowest timestamp interval is used, in order to be able to merge all the data.\n",
    "    date_range = pd.date_range(start=start_date, end=end_date, freq=lowest_timestamp_interval)\n",
    "    df_range = pd.DataFrame(date_range, columns=['timestamp'])\n",
    "    for i, file in enumerate(files):\n",
    "        filename = file.split('/')[1]\n",
    "        print(i+1, filename)\n",
    "        df = pd.read_csv(file, usecols=['timestamp', filename], sep=\";\")\n",
    "        df['timestamp'] = pd.to_datetime(df['timestamp'])\n",
    "        \n",
    "        if (i < 1):\n",
    "            new_df = df_range\n",
    "        else:\n",
    "            new_df = pd.merge_asof(new_df, df, on='timestamp', direction='forward',\n",
    "                                   tolerance=pd.Timedelta(lowest_timestamp_interval))\n",
    "    \n",
    "    new_df.set_index('timestamp', inplace=True)\n",
    "    new_df.dropna(how='all', inplace=True)    \n",
    "    #new_df.to_csv('merge_window.csv', sep=\";\")\n",
    "    return new_df"
   ]
  },
  {
   "cell_type": "code",
   "execution_count": null,
   "metadata": {},
   "outputs": [],
   "source": [
    "# Interpolates data, in order to have enough rows for training the data\n",
    "\n",
    "def interpolate(df, technique, max_na, columns_to_interpolate, new_filename='new_file', write_to_csv=False):\n",
    "    columns = ['timestamp'] + columns_to_interpolate\n",
    "    interpolated_df = df[columns].interpolate(method=technique, axis=0, limit=max_na, limit_direction='both')\n",
    "    print('-----------------------------------------------------------------')\n",
    "    print('-----------------------------------------------------------------')\n",
    "    print(interpolated_df)\n",
    "    print('-----------------------------------------------------------------')\n",
    "    print('-----------------------------------------------------------------')\n",
    "    df.update(interpolated_df, overwrite=False)\n",
    "    if (write_to_csv):\n",
    "        df.to_csv(new_filename, sep=\";\")\n",
    "        return\n",
    "    return df"
   ]
  },
  {
   "cell_type": "code",
   "execution_count": null,
   "metadata": {},
   "outputs": [],
   "source": [
    "# This removes negative values in the dataset. Certain cells had value of -999, which does not make any sense\n",
    "\n",
    "df_merged = pd.read_csv('merge_window.csv', index_col=0, sep=\";\")\n",
    "df_removed_noise = df_merged.copy()\n",
    "\n",
    "for col in df_merged.columns.values[1:]:\n",
    "    df_removed_noise = df_removed_noise[~(df_removed_noise[col] < 0)]\n",
    "\n",
    "# df_removed_noise.to_csv('merge_removed_noise.csv', sep=\";\")"
   ]
  },
  {
   "cell_type": "code",
   "execution_count": null,
   "metadata": {},
   "outputs": [],
   "source": [
    "list_interval_A = [] # Enter the items of a given interval. A list (or optionally multidimensional lists)\n",
    "                     # should be used for each different interval, because they will be interpolated differently\n",
    "\n",
    "list_interval_B = [] # This is because 2 steps for an interval of an hour, is different to 2 steps, for 1 min interval\n",
    "\n",
    "interval_A = # Some interval, that the items in list_interval_A have\n",
    "interval_B = # Some other interval\n",
    "\n",
    "# Below lists of the different intervals are created. This can be done in a much more clever way,\n",
    "# but was sufficient for the few amount of intervals in this project.\n",
    "\n",
    "df_interpolated = interpolate(df_removed_noise, 'linear', interval_A, list_interval_A)\n",
    "df_interpolated = interpolate(df_removed_noise, 'linear', interval_B, list_interval_B)\n",
    "\n",
    "# df_interpolated_noise.to_csv('merge_removed_noise.csv', sep=\";\")"
   ]
  }
 ],
 "metadata": {
  "kernelspec": {
   "display_name": "Python 3",
   "language": "python",
   "name": "python3"
  },
  "language_info": {
   "codemirror_mode": {
    "name": "ipython",
    "version": 3
   },
   "file_extension": ".py",
   "mimetype": "text/x-python",
   "name": "python",
   "nbconvert_exporter": "python",
   "pygments_lexer": "ipython3",
   "version": "3.7.2"
  }
 },
 "nbformat": 4,
 "nbformat_minor": 2
}
